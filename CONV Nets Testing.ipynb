{
 "cells": [
  {
   "cell_type": "markdown",
   "metadata": {},
   "source": [
    "# CONV NETS Testing"
   ]
  },
  {
   "cell_type": "code",
   "execution_count": 5,

   "metadata": {},
   "outputs": [],
   "source": [
    "import numpy as np\n",
    "import h5py\n",
    "from utils_cnn.utils import load_dataset\n",
    "from utils_cnn.utils import convert_to_one_hot\n",
    "from utils_cnn.utils import linear_forward\n",
    "from utils_cnn.forward import conv_layer\n",
    "from utils_cnn.forward import pool_forward\n",
    "from utils_cnn.backward import convolutional_backward\n",
    "from utils_cnn.backward import pool_backward\n",
    "from utils_cnn.activation_functions import RELU_Layer\n",
    "from utils_cnn.activation_functions import RELU_layer_backward\n",

    "from utils_cnn.inits import he_initialization\n",
    "from utils_cnn import losses"

   ]
  },
  {
   "cell_type": "code",
   "execution_count": 2,
   "metadata": {},
   "outputs": [],
   "source": [
    "(X_train_orig, Y_train_orig, X_test_orig, Y_test_orig, classes) = load_dataset()"
   ]
  },
  {
   "cell_type": "code",

   "execution_count": 3,

   "metadata": {
    "scrolled": true
   },
   "outputs": [
    {
     "name": "stdout",
     "output_type": "stream",
     "text": [
      "number of training examples = 1080\n",
      "number of test examples = 120\n"
     ]
    }
   ],
   "source": [
    "X_train = X_train_orig/255.\n",
    "X_test = X_test_orig/255.\n",
    "Y_train = convert_to_one_hot(Y_train_orig, 6).T\n",
    "Y_test = convert_to_one_hot(Y_test_orig, 6).T\n",
    "print (\"number of training examples = \" + str(X_train.shape[0]))\n",
    "print (\"number of test examples = \" + str(X_test.shape[0]))"
   ]
  },
  {
   "cell_type": "markdown",
   "metadata": {},
   "source": [
    "## Convolutional Layer"
   ]
  },
  {
   "cell_type": "code",
   "execution_count": 4,
   "metadata": {},
   "outputs": [
    {
     "name": "stdout",
     "output_type": "stream",
     "text": [
      "(\"Z's mean =\", 1.4875449904865423)\n",
      "shape: \n"
     ]
    },
    {
     "data": {
      "text/plain": [
       "(50, 64, 64, 8)"
      ]
     },
     "execution_count": 4,
     "metadata": {},
     "output_type": "execute_result"
    }
   ],
   "source": [
    "np.random.seed(1)\n",
    "W = he_initialization((3,3,3,8))\n",
    "b = he_initialization((1,1,1,8))\n",
    "\n",
    "Z, cache_conv = conv_layer(X_train[:50], W, b, {\"pad\": 1, \"stride\": 1})\n",
    "print(\"Z's mean =\", np.mean(Z))\n",
    "print(\"shape: \")\n",
    "Z.shape"
   ]
  },
  {
   "cell_type": "markdown",
   "metadata": {},
   "source": [
    "## MAX Pooling Layer"
   ]
  },
  {
   "cell_type": "code",
   "execution_count": 5,
   "metadata": {},
   "outputs": [
    {
     "data": {
      "text/plain": [
       "(10, 64)"
      ]
     },
     "execution_count": 5,
     "metadata": {},
     "output_type": "execute_result"
    }
   ],
   "source": [
    "A, cache_pool = pool_forward(Z, {\"stride\" : 2, \"f\": 2}, mode=\"max\")\n",
    "A.shape"
   ]
  },
  {
   "cell_type": "markdown",
   "metadata": {},
   "source": [
    "## Test of the conv backward pass"
   ]
  },
  {
   "cell_type": "code",
   "execution_count": 6,
   "metadata": {},
   "outputs": [
    {
     "name": "stdout",
     "output_type": "stream",
     "text": [
      "size dA_prev: (50, 64, 64, 3)\n",
      "size dW: (3, 3, 3, 8)\n",
      "size db: (1, 1, 1, 8)\n"
     ]
    }
   ],
   "source": [
    "dA_prev, dW, db = convolutional_backward(Z, cache_conv)\n",
    "print(\"size dA_prev: \" + str(dA_prev.shape))\n",
    "print(\"size dW: \" + str(dW.shape))\n",
    "print(\"size db: \" + str(db.shape))"
   ]
  },
  {
   "cell_type": "markdown",
   "metadata": {},
   "source": [
    "## Test of the maxpool pass"
   ]
  },
  {
   "cell_type": "code",
   "execution_count": 7,
   "metadata": {},
   "outputs": [
    {
     "name": "stdout",
     "output_type": "stream",
     "text": [
      "size dA_prev: (50, 64, 64, 8)\n"
     ]
    }
   ],
   "source": [
    "dA_prev = pool_backward(A, cache_pool, mode=\"max\")\n",
    "print(\"size dA_prev: \" + str(dA_prev.shape))"
   ]
  },
  {
   "cell_type": "code",
   "execution_count": 27,
   "metadata": {},
   "outputs": [],
   "source": [
    "def forward_pass(X):\n",
    "    W1_shape = [5,5,3,8]\n",
    "    W2_shape = [3,3,8,16]\n",
    "    W1 = he_initialization(W1_shape)\n",
    "    W2 = he_initialization(W2_shape)\n",
    "    b1 = np.zeros((1,1,1,8))\n",
    "    b2 = np.zeros((1,1,1,16))\n",
    "    \n",
    "    cache = {}\n",
    "    \n",
    "    Z1, cache[\"Z1\"] = conv_layer(X, W1, b1, {\"pad\": 2, \"stride\": 1})\n",
    "    A1 = RELU_Layer(Z1)\n",
    "    P1, cache[\"P1\"] = pool_forward(A1, {\"f\": 8, \"stride\": 8})\n",
    "    Z2, cache[\"Z2\"] = conv_layer(P1, W2, b2, {\"pad\": 1, \"stride\": 1})\n",
    "    A2 = RELU_Layer(Z2)\n",
    "    P2, cache[\"P2\"] = pool_forward(A2, {\"f\": 4, \"stride\": 4})\n",
    "    m, h, w, c = P2.shape\n",
    "    P2flat = np.zeros((m, h*w*c))\n",
    "    \n",
    "    for i in range(m):\n",
    "        P2flat[i] = P2[i].flatten()\n",
    "        \n",
    "    W3 = np.random.randn(6, P2flat.shape[1]) * 0.01\n",
    "    b1 = np.zeros((W3.shape[0], 1))\n",
    "    \n",
    "    Z3, cache[\"Z3\"] = linear_forward(P2flat.T, W3,b1)\n",
    "    ce = losses.CrossEntropy()\n",
    "    Z3 = ce._softmax(Z3.T)\n",
    "\n",
    "    return Z3, cache"
   ]
  },
  {
   "cell_type": "code",
   "execution_count": null,
   "metadata": {
    "collapsed": true
   },
   "outputs": [],
   "source": [
    "def backward_pass(X):\n",
    "    "
   ]
  },
  {
   "cell_type": "code",
   "execution_count": 9,
   "metadata": {
    "collapsed": true
   },
   "outputs": [],
   "source": [
    "W1_shape = [5,5,3,8]\n",
    "W2_shape = [3,3,8,16]\n",
    "W1 = he_initialization(W1_shape)\n",
    "W2 = he_initialization(W2_shape)\n",
    "b1 = he_initialization((1,1,1,8))\n",
    "b2 = he_initialization((1,1,1,16))"
   ]
  },
  {
   "cell_type": "code",
   "execution_count": 28,
   "metadata": {},
   "outputs": [],
   "source": [
    "A, cache = forward_pass(X_train[:10])"
   ]
  },
  {
   "cell_type": "code",
   "execution_count": 31,
   "metadata": {},
   "outputs": [],
   "source": [
    "A[1,0]= 1"
   ]
  },
  {
   "cell_type": "code",
   "execution_count": 29,
   "metadata": {
    "collapsed": true
   },
   "outputs": [],
   "source": [
    "ce = losses.CrossEntropy()"
   ]
  },
  {
   "cell_type": "code",
   "execution_count": null,
   "metadata": {
    "collapsed": true
   },
   "outputs": [],
   "source": []
  },
  {
   "cell_type": "code",
   "execution_count": 52,
   "metadata": {},
   "outputs": [
    {
     "data": {
      "text/plain": [
       "array([ 0.        ,  0.        ,  0.45160174,  0.        ,  0.        ,\n",
       "        0.        ,  0.        ,  0.        ,  1.01804696,  0.        ,\n",
       "        0.        ,  0.        ,  0.        ,  0.        ,  0.        ,\n",
       "        1.45665179,  0.        ,  0.        ,  0.44736449,  0.        ,\n",
       "        0.        ,  0.        ,  0.        ,  0.        ,  1.03423493,\n",
       "        0.        ,  0.        ,  0.        ,  0.        ,  0.        ,\n",
       "        0.        ,  1.43725551,  0.        ,  0.        ,  0.41592996,\n",
       "        0.        ,  0.        ,  0.        ,  0.        ,  0.        ,\n",
       "        0.9649079 ,  0.        ,  0.        ,  0.        ,  0.        ,\n",
       "        0.        ,  0.        ,  1.44027795,  0.        ,  0.        ,\n",
       "        0.38333921,  0.        ,  0.        ,  0.        ,  0.        ,\n",
       "        0.        ,  0.97798408,  0.        ,  0.        ,  0.        ,\n",
       "        0.        ,  0.        ,  0.        ,  1.44668971])"
      ]
     },
     "execution_count": 52,
     "metadata": {},
     "output_type": "execute_result"
    }
   ],
   "source": [
    "A[0].flatten()"
   ]
  },
  {
   "cell_type": "code",
   "execution_count": null,
   "metadata": {
    "collapsed": true
   },
   "outputs": [],
   "source": []
  },
  {
   "cell_type": "code",
   "execution_count": null,
   "metadata": {
    "collapsed": true
   },
   "outputs": [],
   "source": []
  },
  {
   "cell_type": "code",
   "execution_count": null,
   "metadata": {
    "collapsed": true
   },
   "outputs": [],
   "source": []
  },
  {
   "cell_type": "code",
   "execution_count": 34,
   "metadata": {
    "collapsed": true
   },
   "outputs": [],
   "source": [
    "cache = {}\n",
    "    \n",
    "Z1, cache[\"Z1\"] = conv_layer(X_train[:10], W1, b1, {\"pad\": 2, \"stride\": 1})"
   ]
  },
  {
   "cell_type": "code",
   "execution_count": 35,
   "metadata": {},
   "outputs": [
    {
     "data": {
      "text/plain": [
       "(10, 64, 64, 8)"
      ]
     },
     "execution_count": 35,
     "metadata": {},
     "output_type": "execute_result"
    }
   ],
   "source": [
    "Z1.shape"
   ]
  },
  {
   "cell_type": "code",
   "execution_count": 37,
   "metadata": {},
   "outputs": [
    {
     "data": {
      "text/plain": [
       "(10, 64, 64, 8)"
      ]
     },
     "execution_count": 37,
     "metadata": {},
     "output_type": "execute_result"
    }
   ],
   "source": [
    "A1 = RELU_Layer(Z1)\n",
    "A1.shape"
   ]
  },
  {
   "cell_type": "code",
   "execution_count": 38,
   "metadata": {},
   "outputs": [
    {
     "data": {
      "text/plain": [
       "(10, 8, 8, 8)"
      ]
     },
     "execution_count": 38,
     "metadata": {},
     "output_type": "execute_result"
    }
   ],
   "source": [
    "P1, cache[\"P1\"] = pool_forward(A1, {\"f\": 8, \"stride\": 8})\n",
    "P1.shape"
   ]
  },
  {
   "cell_type": "code",
   "execution_count": 39,
   "metadata": {},
   "outputs": [
    {
     "data": {
      "text/plain": [
       "(10, 8, 8, 16)"
      ]
     },
     "execution_count": 39,
     "metadata": {},
     "output_type": "execute_result"
    }
   ],
   "source": [
    "Z2, cache[\"Z2\"] = conv_layer(P1, W2, b2, {\"pad\": 1, \"stride\": 1})\n",
    "Z2.shape"
   ]
  },
  {
   "cell_type": "code",
   "execution_count": 47,
   "metadata": {},
   "outputs": [
    {
     "data": {
      "text/plain": [
       "(10240,)"
      ]
     },
     "execution_count": 47,
     "metadata": {},
     "output_type": "execute_result"
    }
   ],
   "source": [
    "Z2.flatten().shape"
   ]
  },
  {
   "cell_type": "code",
   "execution_count": null,
   "metadata": {
    "collapsed": true
   },
   "outputs": [],
   "source": []
  }
 ],
 "metadata": {
  "kernelspec": {
   "display_name": "Python 2",
   "language": "python",
   "name": "python2"
  },
  "language_info": {
   "codemirror_mode": {
    "name": "ipython",
    "version": 2
   },
   "file_extension": ".py",
   "mimetype": "text/x-python",
   "name": "python",
   "nbconvert_exporter": "python",
   "pygments_lexer": "ipython2",
   "version": "2.7.13"
  }
 },
 "nbformat": 4,
 "nbformat_minor": 2
}
